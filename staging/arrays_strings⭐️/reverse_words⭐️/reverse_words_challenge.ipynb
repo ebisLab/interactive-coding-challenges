{
 "cells": [
  {
   "cell_type": "markdown",
   "metadata": {},
   "source": [
    "<small> <i> This notebook was prepared by Marco Guajardo. For license visit [github](https://github.com/donnemartin/interactive-coding-challenges) </i> </small>\n",
    "."
   ]
  },
  {
   "cell_type": "markdown",
   "metadata": {},
   "source": [
    "# Challenge Notebook\n"
   ]
  },
  {
   "cell_type": "markdown",
   "metadata": {},
   "source": [
    "## Problem: Given a string of words, return a string with the words in reverse"
   ]
  },
  {
   "cell_type": "markdown",
   "metadata": {},
   "source": [
    "* [Constraints](#Constraints)\n",
    "* [Test Cases](#Test-Cases)\n",
    "* [Algorithm](#Algorithm)\n",
    "* [Code](#Code)\n",
    "* [Unit Test](#Unit-Test)\n",
    "* [Solution Notebook](#Solution-Notebook)"
   ]
  },
  {
   "cell_type": "markdown",
   "metadata": {},
   "source": [
    "## Constraints\n",
    "* Can we assume the string is ASCII?\n",
    "  * Yes\n",
    "* Is whitespace important?\n",
    "  * no the whitespace does not change\n",
    "* Is this case sensitive?\n",
    "  * yes\n",
    "* What if the string is empty?\n",
    "  * return None\n",
    "* Is the order of words important?\n",
    "  * yes\n"
   ]
  },
  {
   "cell_type": "markdown",
   "metadata": {},
   "source": [
    "## Test Cases\n",
    "* Empty string -> None\n",
    "* \"the sun is very hot\" -> \"eht nus si yrev toh\"\n"
   ]
  },
  {
   "cell_type": "markdown",
   "metadata": {},
   "source": [
    "## Algorithm\n",
    "* Refer to the [Solution](https://github.com/donnemartin/interactive-coding-challenges/blob/master/arrays_strings/reverse_words/reverse_words_solution.ipynb) if you are stuck and need a hint, the solution notebook's algorithm discussion might be a good place to start."
   ]
  },
  {
   "cell_type": "markdown",
   "metadata": {},
   "source": [
    "## Code "
   ]
  },
  {
   "cell_type": "code",
   "execution_count": 38,
   "metadata": {},
   "outputs": [],
   "source": [
    "def reverse_words (S):\n",
    "    #TODO: implement me\n",
    "    print(S)\n",
    "    cache=\"\"\n",
    "    if len(S) is 0:\n",
    "        return None\n",
    "    word=S.split()\n",
    "    print(S.split())\n",
    "    for i in range(len(word)):\n",
    "        print(word[i][::-1])\n",
    "        word[i]=word[i][::-1]\n",
    "    print(word)\n",
    "    james=\" \".join(word)\n",
    "    print(james)\n",
    "    return james\n"
   ]
  },
  {
   "cell_type": "markdown",
   "metadata": {},
   "source": [
    "## Unit Test\n",
    "<b> The following unit test is expected to fail until you solve challenge </b>"
   ]
  },
  {
   "cell_type": "code",
   "execution_count": 39,
   "metadata": {},
   "outputs": [
    {
     "name": "stdout",
     "output_type": "stream",
     "text": [
      "the sun is hot\n",
      "['the', 'sun', 'is', 'hot']\n",
      "eht\n",
      "nus\n",
      "si\n",
      "toh\n",
      "['eht', 'nus', 'si', 'toh']\n",
      "eht nus si toh\n",
      "\n",
      "123 456 789\n",
      "['123', '456', '789']\n",
      "321\n",
      "654\n",
      "987\n",
      "['321', '654', '987']\n",
      "321 654 987\n",
      "magic\n",
      "['magic']\n",
      "cigam\n",
      "['cigam']\n",
      "cigam\n",
      "Success: reverse_words\n"
     ]
    }
   ],
   "source": [
    "import unittest\n",
    "\n",
    "\n",
    "class UnitTest(unittest.TestCase):\n",
    "\n",
    "    def testReverseWords(self, func):\n",
    "            self.assertEqual(func('the sun is hot'), 'eht nus si toh')\n",
    "            self.assertEqual(func(''), None)\n",
    "            self.assertEqual(func('123 456 789'), '321 654 987')\n",
    "            self.assertEqual(func('magic'), 'cigam')\n",
    "            print('Success: reverse_words')\n",
    "\n",
    "\n",
    "def main():\n",
    "    test = UnitTest()\n",
    "    test.testReverseWords(reverse_words)\n",
    "\n",
    "\n",
    "if __name__==\"__main__\":\n",
    "  main()"
   ]
  },
  {
   "cell_type": "markdown",
   "metadata": {},
   "source": [
    "## Solution Notebook\n",
    "* Review the [Solution Notebook](https://github.com/donnemartin/interactive-coding-challenges/blob/master/arrays_strings/reverse_words/reverse_words_solution.ipynb) for discussion on algorithms and code solutions."
   ]
  },
  {
   "cell_type": "code",
   "execution_count": null,
   "metadata": {},
   "outputs": [],
   "source": []
  },
  {
   "cell_type": "code",
   "execution_count": null,
   "metadata": {},
   "outputs": [],
   "source": []
  }
 ],
 "metadata": {
  "kernelspec": {
   "display_name": "Python 3",
   "language": "python",
   "name": "python3"
  },
  "language_info": {
   "codemirror_mode": {
    "name": "ipython",
    "version": 3
   },
   "file_extension": ".py",
   "mimetype": "text/x-python",
   "name": "python",
   "nbconvert_exporter": "python",
   "pygments_lexer": "ipython3",
   "version": "3.7.0"
  }
 },
 "nbformat": 4,
 "nbformat_minor": 1
}
